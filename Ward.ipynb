{
 "cells": [
  {
   "cell_type": "markdown",
   "metadata": {},
   "source": [
    "# Ward法"
   ]
  },
  {
   "cell_type": "markdown",
   "metadata": {},
   "source": [
    "# [目的]<br>Ward法になれる"
   ]
  },
  {
   "cell_type": "markdown",
   "metadata": {},
   "source": [
    "## import"
   ]
  },
  {
   "cell_type": "code",
   "execution_count": 1,
   "metadata": {},
   "outputs": [],
   "source": [
    "import matplotlib.pyplot as plt\n",
    "import pandas as pd\n",
    "import numpy as np\n",
    "from scipy.cluster.hierarchy import linkage, dendrogram, fcluster\n",
    "from sklearn.metrics import silhouette_score, calinski_harabasz_score, davies_bouldin_score\n",
    "%matplotlib inline\n",
    "# from matplotlib.font_manager import FontProperties\n",
    "import japanize_matplotlib"
   ]
  },
  {
   "cell_type": "markdown",
   "metadata": {},
   "source": [
    "[データセット]\\\n",
    "2014年のデータ二人以上の世帯３か月平均\\\n",
    "９月１日から11月30日までの３か月間"
   ]
  },
  {
   "cell_type": "code",
   "execution_count": 2,
   "metadata": {},
   "outputs": [],
   "source": [
    "# データセットを読み込み\n",
    "df = pd.read_csv(\"Household.csv\", encoding = \"shift-jis\")\n",
    "Pref = df.iloc[:,0]\n",
    "Data = df.iloc[:,1:]"
   ]
  },
  {
   "cell_type": "code",
   "execution_count": 3,
   "metadata": {},
   "outputs": [
    {
     "data": {
      "text/plain": [
       "0    北海道\n",
       "1    青森県\n",
       "2    岩手県\n",
       "3    宮城県\n",
       "4    秋田県\n",
       "Name: Pref, dtype: object"
      ]
     },
     "execution_count": 3,
     "metadata": {},
     "output_type": "execute_result"
    }
   ],
   "source": [
    "Pref.head()"
   ]
  },
  {
   "cell_type": "code",
   "execution_count": 4,
   "metadata": {},
   "outputs": [
    {
     "data": {
      "text/html": [
       "<div>\n",
       "<style scoped>\n",
       "    .dataframe tbody tr th:only-of-type {\n",
       "        vertical-align: middle;\n",
       "    }\n",
       "\n",
       "    .dataframe tbody tr th {\n",
       "        vertical-align: top;\n",
       "    }\n",
       "\n",
       "    .dataframe thead th {\n",
       "        text-align: right;\n",
       "    }\n",
       "</style>\n",
       "<table border=\"1\" class=\"dataframe\">\n",
       "  <thead>\n",
       "    <tr style=\"text-align: right;\">\n",
       "      <th></th>\n",
       "      <th>food</th>\n",
       "      <th>housing</th>\n",
       "      <th>utilities</th>\n",
       "      <th>medical</th>\n",
       "      <th>communication</th>\n",
       "      <th>education</th>\n",
       "    </tr>\n",
       "  </thead>\n",
       "  <tbody>\n",
       "    <tr>\n",
       "      <th>0</th>\n",
       "      <td>64968</td>\n",
       "      <td>18060</td>\n",
       "      <td>22031</td>\n",
       "      <td>11595</td>\n",
       "      <td>42764</td>\n",
       "      <td>8422</td>\n",
       "    </tr>\n",
       "    <tr>\n",
       "      <th>1</th>\n",
       "      <td>62107</td>\n",
       "      <td>13657</td>\n",
       "      <td>25018</td>\n",
       "      <td>11145</td>\n",
       "      <td>39585</td>\n",
       "      <td>6839</td>\n",
       "    </tr>\n",
       "    <tr>\n",
       "      <th>2</th>\n",
       "      <td>67455</td>\n",
       "      <td>16232</td>\n",
       "      <td>24239</td>\n",
       "      <td>12195</td>\n",
       "      <td>52568</td>\n",
       "      <td>8288</td>\n",
       "    </tr>\n",
       "    <tr>\n",
       "      <th>3</th>\n",
       "      <td>70228</td>\n",
       "      <td>14673</td>\n",
       "      <td>23578</td>\n",
       "      <td>12777</td>\n",
       "      <td>51896</td>\n",
       "      <td>10863</td>\n",
       "    </tr>\n",
       "    <tr>\n",
       "      <th>4</th>\n",
       "      <td>67404</td>\n",
       "      <td>12437</td>\n",
       "      <td>25468</td>\n",
       "      <td>10770</td>\n",
       "      <td>44346</td>\n",
       "      <td>6224</td>\n",
       "    </tr>\n",
       "  </tbody>\n",
       "</table>\n",
       "</div>"
      ],
      "text/plain": [
       "    food  housing  utilities  medical  communication  education\n",
       "0  64968    18060      22031    11595          42764       8422\n",
       "1  62107    13657      25018    11145          39585       6839\n",
       "2  67455    16232      24239    12195          52568       8288\n",
       "3  70228    14673      23578    12777          51896      10863\n",
       "4  67404    12437      25468    10770          44346       6224"
      ]
     },
     "execution_count": 4,
     "metadata": {},
     "output_type": "execute_result"
    }
   ],
   "source": [
    "Data.head()"
   ]
  },
  {
   "cell_type": "markdown",
   "metadata": {},
   "source": [
    "(1) 食料\\\n",
    "　　　　穀類，魚介類，肉類，乳卵類，野菜・海藻，果物，油脂・調味料，菓子類，調理食品，飲料，酒類，外食\\\n",
    "(2) 住居\\\n",
    "　　　　家賃地代，設備修繕・維持（住宅の増改築費は含まれない。）\\\n",
    "(3) 光熱・水道\\\n",
    "　　　　電気代，ガス代，他の光熱，上下水道料\\\n",
    "(4) 保健医療\\\n",
    "　　　　医薬品，健康保持用摂取品，保健医療用品・器具，保健医療サービス（理・美容費は含まれない。）\\\n",
    "(5) 交通・通信\\\n",
    "　　　　交通，自動車等関係費，通信\\\n",
    "(6) 教育\\\n",
    "　　　　授業料等，教科書・学習参考教材，補習教育"
   ]
  },
  {
   "cell_type": "code",
   "execution_count": 5,
   "metadata": {},
   "outputs": [
    {
     "data": {
      "text/html": [
       "<div>\n",
       "<style scoped>\n",
       "    .dataframe tbody tr th:only-of-type {\n",
       "        vertical-align: middle;\n",
       "    }\n",
       "\n",
       "    .dataframe tbody tr th {\n",
       "        vertical-align: top;\n",
       "    }\n",
       "\n",
       "    .dataframe thead th {\n",
       "        text-align: right;\n",
       "    }\n",
       "</style>\n",
       "<table border=\"1\" class=\"dataframe\">\n",
       "  <thead>\n",
       "    <tr style=\"text-align: right;\">\n",
       "      <th></th>\n",
       "      <th>food</th>\n",
       "      <th>housing</th>\n",
       "      <th>utilities</th>\n",
       "      <th>medical</th>\n",
       "      <th>communication</th>\n",
       "      <th>education</th>\n",
       "    </tr>\n",
       "  </thead>\n",
       "  <tbody>\n",
       "    <tr>\n",
       "      <th>count</th>\n",
       "      <td>47.000000</td>\n",
       "      <td>47.000000</td>\n",
       "      <td>47.000000</td>\n",
       "      <td>47.000000</td>\n",
       "      <td>47.000000</td>\n",
       "      <td>47.000000</td>\n",
       "    </tr>\n",
       "    <tr>\n",
       "      <th>mean</th>\n",
       "      <td>69632.978723</td>\n",
       "      <td>15441.212766</td>\n",
       "      <td>21396.680851</td>\n",
       "      <td>12433.872340</td>\n",
       "      <td>46009.595745</td>\n",
       "      <td>11080.595745</td>\n",
       "    </tr>\n",
       "    <tr>\n",
       "      <th>std</th>\n",
       "      <td>4964.988439</td>\n",
       "      <td>3295.188857</td>\n",
       "      <td>2169.540305</td>\n",
       "      <td>1122.736808</td>\n",
       "      <td>4311.962076</td>\n",
       "      <td>3679.293905</td>\n",
       "    </tr>\n",
       "    <tr>\n",
       "      <th>min</th>\n",
       "      <td>59249.000000</td>\n",
       "      <td>10049.000000</td>\n",
       "      <td>17944.000000</td>\n",
       "      <td>9686.000000</td>\n",
       "      <td>35533.000000</td>\n",
       "      <td>4876.000000</td>\n",
       "    </tr>\n",
       "    <tr>\n",
       "      <th>25%</th>\n",
       "      <td>66337.500000</td>\n",
       "      <td>13053.500000</td>\n",
       "      <td>19824.000000</td>\n",
       "      <td>11601.000000</td>\n",
       "      <td>43290.500000</td>\n",
       "      <td>8358.500000</td>\n",
       "    </tr>\n",
       "    <tr>\n",
       "      <th>50%</th>\n",
       "      <td>69237.000000</td>\n",
       "      <td>15324.000000</td>\n",
       "      <td>21076.000000</td>\n",
       "      <td>12481.000000</td>\n",
       "      <td>46366.000000</td>\n",
       "      <td>10190.000000</td>\n",
       "    </tr>\n",
       "    <tr>\n",
       "      <th>75%</th>\n",
       "      <td>73984.500000</td>\n",
       "      <td>17280.500000</td>\n",
       "      <td>22386.500000</td>\n",
       "      <td>13156.500000</td>\n",
       "      <td>47872.500000</td>\n",
       "      <td>13348.000000</td>\n",
       "    </tr>\n",
       "    <tr>\n",
       "      <th>max</th>\n",
       "      <td>81418.000000</td>\n",
       "      <td>28610.000000</td>\n",
       "      <td>28526.000000</td>\n",
       "      <td>14647.000000</td>\n",
       "      <td>59189.000000</td>\n",
       "      <td>18962.000000</td>\n",
       "    </tr>\n",
       "  </tbody>\n",
       "</table>\n",
       "</div>"
      ],
      "text/plain": [
       "               food       housing     utilities       medical  communication  \\\n",
       "count     47.000000     47.000000     47.000000     47.000000      47.000000   \n",
       "mean   69632.978723  15441.212766  21396.680851  12433.872340   46009.595745   \n",
       "std     4964.988439   3295.188857   2169.540305   1122.736808    4311.962076   \n",
       "min    59249.000000  10049.000000  17944.000000   9686.000000   35533.000000   \n",
       "25%    66337.500000  13053.500000  19824.000000  11601.000000   43290.500000   \n",
       "50%    69237.000000  15324.000000  21076.000000  12481.000000   46366.000000   \n",
       "75%    73984.500000  17280.500000  22386.500000  13156.500000   47872.500000   \n",
       "max    81418.000000  28610.000000  28526.000000  14647.000000   59189.000000   \n",
       "\n",
       "          education  \n",
       "count     47.000000  \n",
       "mean   11080.595745  \n",
       "std     3679.293905  \n",
       "min     4876.000000  \n",
       "25%     8358.500000  \n",
       "50%    10190.000000  \n",
       "75%    13348.000000  \n",
       "max    18962.000000  "
      ]
     },
     "execution_count": 5,
     "metadata": {},
     "output_type": "execute_result"
    }
   ],
   "source": [
    "Data.describe()"
   ]
  },
  {
   "cell_type": "markdown",
   "metadata": {},
   "source": [
    "## デンドログラムの作成"
   ]
  },
  {
   "cell_type": "code",
   "execution_count": 6,
   "metadata": {},
   "outputs": [
    {
     "data": {
      "image/png": "[encoded data removed]",
      "text/plain": [
       "<Figure size 1152x720 with 1 Axes>"
      ]
     },
     "metadata": {
      "needs_background": "light"
     },
     "output_type": "display_data"
    }
   ],
   "source": [
    "# 階層型クラスタリングの実施\n",
    "# ウォード法 x ユークリッド距離\n",
    "linkage_result = linkage(Data, method='ward', metric='euclidean')\n",
    "\n",
    "# クラスタ分けする閾値を決める\n",
    "threshold = 0.5 * np.max(linkage_result[:, 2])\n",
    "\n",
    "# 階層型クラスタリングの可視化\n",
    "# fp = FontProperties(fname=r'c:\\Windows\\Fonts\\meiryo.ttc')\n",
    "plt.figure(figsize=(16, 10)) \n",
    "dendrogram(linkage_result, labels=list(Pref), color_threshold=threshold)\n",
    "plt.axhline(y=threshold, color='red')\n",
    "plt.show()"
   ]
  },
  {
   "cell_type": "markdown",
   "metadata": {},
   "source": [
    "## クラスタの詳細"
   ]
  },
  {
   "cell_type": "code",
   "execution_count": 7,
   "metadata": {},
   "outputs": [
    {
     "name": "stdout",
     "output_type": "stream",
     "text": [
      "3    24\n",
      "1    13\n",
      "2    10\n",
      "Name: cluster_id, dtype: int64\n",
      "    Pref   food  housing  utilities  medical  communication  education\n",
      "0    北海道  64968    18060      22031    11595          42764       8422\n",
      "1    青森県  62107    13657      25018    11145          39585       6839\n",
      "29  和歌山県  67256    10049      19475     9686          43337       8295\n",
      "34   山口県  67598    15852      18880    12532          43439       7667\n",
      "37   愛媛県  66227    13935      19835    11524          39758      11684\n",
      "38   高知県  66144    16789      18644    11375          40632       7816\n",
      "39   福岡県  66153    18732      19159    12174          45759      11413\n",
      "41   長崎県  62254    19071      19799    11607          40658       9324\n",
      "42   熊本県  63938    10879      19304    12798          42256      10190\n",
      "43   大分県  62654    15651      18635    12877          43611       4876\n",
      "44   宮崎県  62442    14013      17944    11438          43244       8964\n",
      "45  鹿児島県  60830    15324      18526    11753          43029       7736\n",
      "46   沖縄県  59249    17691      21076    10155          35533       8096\n",
      "**************************************\n",
      "    Pref   food  housing  utilities  medical  communication  education\n",
      "10   埼玉県  74515    17261      20339    13356          45395      17525\n",
      "11   千葉県  75420    18064      20347    13914          45381      16518\n",
      "12   東京都  81418    28610      20562    14414          40859      18962\n",
      "13  神奈川県  78362    20209      20583    14213          46982      16373\n",
      "22   愛知県  74673    19782      20868    13028          46813      16608\n",
      "24   滋賀県  74655    13534      21837    13019          46371      17157\n",
      "25   京都府  75595    13785      21197    11190          45121      17874\n",
      "26   大阪府  73843    17270      19572    13035          38706      15228\n",
      "27   兵庫県  73787    16527      19519    12640          42866      14184\n",
      "28   奈良県  71936    19114      21871    13751          47806      18192\n",
      "**************************************\n",
      "   Pref   food  housing  utilities  medical  communication  education\n",
      "2   岩手県  67455    16232      24239    12195          52568       8288\n",
      "3   宮城県  70228    14673      23578    12777          51896      10863\n",
      "4   秋田県  67404    12437      25468    10770          44346       6224\n",
      "5   山形県  74126    12353      28526    12129          48371       9190\n",
      "6   福島県  68169    12511      23064    10880          50560       6524\n",
      "7   茨城県  70489    17291      22440    12073          50904      13053\n",
      "8   栃木県  72129    20816      22333    14135          53260       8883\n",
      "9   群馬県  69237    12249      20246    12316          48842       9524\n",
      "14  新潟県  74741    12840      25542    12481          45220       9259\n",
      "15  富山県  75660    15539      24217    11869          59189      10100\n",
      "16  石川県  75635    15487      21130    13066          47404      11071\n",
      "17  福井県  75283    13530      23195    11699          52547      12201\n",
      "18  山梨県  66448    14028      20565    11891          44735      11827\n",
      "19  長野県  69734    16515      24017    13992          47939      10569\n",
      "20  岐阜県  70034    11785      22285    11315          46831      13784\n",
      "21  静岡県  72273    13700      21258    13318          49752      10926\n",
      "23  三重県  72979    12958      21915    14647          47756      13643\n",
      "30  鳥取県  67696    12559      21114    12311          46807       6858\n",
      "31  島根県  69005    13149      23024    13721          46120       5510\n",
      "32  岡山県  67402    10817      21454    12751          46366      12397\n",
      "33  広島県  70233    17400      19940    12898          47733      12068\n",
      "35  徳島県  67172    15064      20756    11396          46627       9775\n",
      "36  香川県  68338    15440      20504    13296          49349       9005\n",
      "40  佐賀県  64856    12505      19813    13247          47424       9303\n",
      "**************************************\n"
     ]
    }
   ],
   "source": [
    "# クラスタリング結果の値を取得\n",
    "clustered = fcluster(linkage_result, threshold, criterion='distance')\n",
    "num_clus = clustered.max()  # クラスタ数を取得\n",
    "\n",
    "# Pandasのデータフレームにクラスタ番号を追加\n",
    "df[\"cluster_id\"] = clustered\n",
    "\n",
    "# 各クラスタに属するサンプル数の分布\n",
    "print(df[\"cluster_id\"].value_counts())\n",
    "\n",
    "# 各クラスタの各部門商品の購買額の平均値のデータフレームを作成\n",
    "cluster_info = pd.DataFrame()\n",
    "for i in range(1,num_clus+1):\n",
    "    cluster_info['cluster' + str(i)] = df[df['cluster_id'] == i].mean()\n",
    "    print(df[df['cluster_id'] == i].iloc[:,:-1])\n",
    "    print(\"**************************************\")"
   ]
  },
  {
   "cell_type": "code",
   "execution_count": 8,
   "metadata": {},
   "outputs": [
    {
     "data": {
      "image/png": "[encoded data removed]",
      "text/plain": [
       "<Figure size 432x288 with 1 Axes>"
      ]
     },
     "metadata": {
      "needs_background": "light"
     },
     "output_type": "display_data"
    }
   ],
   "source": [
    "# cluster_infoから余分な列'cluster_id'を削除\n",
    "cluster_info = cluster_info.drop('cluster_id')\n",
    "\n",
    "# 可視化(積み上げ棒グラフ)\n",
    "my_plot = cluster_info.T.plot(kind='bar', title=\"Mean Value of \"+str(num_clus)+\" Clusters\")\n",
    "# plt.savefig(str(num_clus) + \"cluster_ward.png\")  # グラフを保存\n",
    "plt.show()"
   ]
  },
  {
   "cell_type": "code",
   "execution_count": 10,
   "metadata": {},
   "outputs": [
    {
     "data": {
      "image/png": "[encoded data removed]",
      "text/plain": [
       "<Figure size 432x288 with 1 Axes>"
      ]
     },
     "metadata": {
      "needs_background": "light"
     },
     "output_type": "display_data"
    }
   ],
   "source": [
    "# 可視化(積み上げ棒グラフ)\n",
    "my_plot = cluster_info.T.plot(kind='bar', stacked=True, title=\"Mean Value of \"+str(num_clus)+\" Clusters\")\n",
    "# plt.savefig(str(num_clus) + \"cluster_ward.png\")  # グラフを保存\n",
    "plt.show()"
   ]
  },
  {
   "cell_type": "code",
   "execution_count": 11,
   "metadata": {},
   "outputs": [
    {
     "data": {
      "image/png": "[encoded data removed]",
      "text/plain": [
       "<Figure size 432x288 with 3 Axes>"
      ]
     },
     "metadata": {
      "needs_background": "light"
     },
     "output_type": "display_data"
    }
   ],
   "source": [
    "# クラスタ数ごとに，Sihouette Coefficient，Calinski-Harabasz Index, Davies-Bounldin Indexを計算する\n",
    "silhouette_coefficient = []\n",
    "calinski_harabasz_index = []\n",
    "davies_bouldin_index = []\n",
    "\n",
    "for num_clus in range(2,11):\n",
    "    labels = fcluster(linkage_result, t=num_clus, criterion='maxclust')\n",
    "\n",
    "    silhouette_coefficient.append(silhouette_score(Data, labels))\n",
    "    calinski_harabasz_index.append(calinski_harabasz_score(Data, labels))\n",
    "    davies_bouldin_index.append(davies_bouldin_score(Data, labels))\n",
    "\n",
    "# 結果をグラフに表示\n",
    "fig = plt.figure()\n",
    "fig.subplots_adjust(bottom=0.3,right=0.75)  # 図の余白を調整\n",
    "host = fig.add_subplot(111)  # グラフの追加\n",
    "\n",
    "# 縦軸の追加\n",
    "# x軸が共通でy軸が異なるグラフが書ける\n",
    "par1 = host.twinx()\n",
    "par2 = host.twinx()\n",
    "\n",
    "# プロット\n",
    "p0, = host.plot(range(2,11), silhouette_coefficient, 'bo-', label='Silhouette Coefficient')\n",
    "p1, = par1.plot(range(2,11), calinski_harabasz_index, 'rd-', label='Calinski Harabasz Index')\n",
    "p2, = par2.plot(range(2,11), davies_bouldin_index, 'gs-', label='Davies Bouldin Index')\n",
    "\n",
    "# 軸ラベル\n",
    "host.set_xlabel('Number of Clusters')\n",
    "host.set_ylabel('Silhouette Coefficient')\n",
    "par1.set_ylabel('Calinski Harabasz Index')\n",
    "par2.set_ylabel('Davies Bouldin Index')\n",
    "\n",
    "# 軸の位置の調整\n",
    "par2.spines['right'].set_position(('axes', 1.15))\n",
    "\n",
    "# 凡例\n",
    "lines = [p0, p1, p2]\n",
    "host.legend(lines,\n",
    "            [l.get_label() for l in lines],\n",
    "            fontsize=8,\n",
    "            bbox_to_anchor=(0.7, -0.1),  # 凡例の枠の，図全体に対する相対的な位置\n",
    "            loc='upper left'\n",
    "            )\n",
    "plt.show()"
   ]
  },
  {
   "cell_type": "code",
   "execution_count": null,
   "metadata": {},
   "outputs": [],
   "source": []
  }
 ],
 "metadata": {
  "kernelspec": {
   "display_name": "Python 3",
   "language": "python",
   "name": "python3"
  },
  "language_info": {
   "codemirror_mode": {
    "name": "ipython",
    "version": 3
   },
   "file_extension": ".py",
   "mimetype": "text/x-python",
   "name": "python",
   "nbconvert_exporter": "python",
   "pygments_lexer": "ipython3",
   "version": "3.7.7"
  }
 },
 "nbformat": 4,
 "nbformat_minor": 4
}
